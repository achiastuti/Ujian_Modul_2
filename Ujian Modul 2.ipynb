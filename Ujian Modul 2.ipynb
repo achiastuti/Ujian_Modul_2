{
 "cells": [
  {
   "cell_type": "code",
   "execution_count": 1,
   "metadata": {},
   "outputs": [],
   "source": [
    "import sqlalchemy as db\n",
    "import mysql.connector\n",
    "import pandas as pd\n",
    "import numpy as np\n",
    "import matplotlib.pyplot as plt\n",
    "import seaborn as sns\n",
    "from scipy import stats\n",
    "import datetime\n",
    "import calendar"
   ]
  },
  {
   "cell_type": "code",
   "execution_count": 2,
   "metadata": {},
   "outputs": [],
   "source": [
    "engine1 = db.create_engine('mysql+pymysql://root:@localhost:3306/hotwheels_db')\n",
    "con1 =engine1.connect()\n",
    "meta =db.MetaData()"
   ]
  },
  {
   "cell_type": "code",
   "execution_count": 3,
   "metadata": {},
   "outputs": [
    {
     "data": {
      "text/html": [
       "<div>\n",
       "<style scoped>\n",
       "    .dataframe tbody tr th:only-of-type {\n",
       "        vertical-align: middle;\n",
       "    }\n",
       "\n",
       "    .dataframe tbody tr th {\n",
       "        vertical-align: top;\n",
       "    }\n",
       "\n",
       "    .dataframe thead th {\n",
       "        text-align: right;\n",
       "    }\n",
       "</style>\n",
       "<table border=\"1\" class=\"dataframe\">\n",
       "  <thead>\n",
       "    <tr style=\"text-align: right;\">\n",
       "      <th></th>\n",
       "      <th>customerNumber</th>\n",
       "      <th>customerName</th>\n",
       "      <th>contactLastName</th>\n",
       "      <th>contactFirstName</th>\n",
       "      <th>phone</th>\n",
       "      <th>addressLine1</th>\n",
       "      <th>addressLine2</th>\n",
       "      <th>city</th>\n",
       "      <th>state</th>\n",
       "      <th>postalCode</th>\n",
       "      <th>country</th>\n",
       "      <th>salesRepEmployeeNumber</th>\n",
       "      <th>creditLimit</th>\n",
       "    </tr>\n",
       "  </thead>\n",
       "  <tbody>\n",
       "    <tr>\n",
       "      <th>0</th>\n",
       "      <td>103</td>\n",
       "      <td>Atelier graphique</td>\n",
       "      <td>Schmitt</td>\n",
       "      <td>Carine</td>\n",
       "      <td>40.32.2555</td>\n",
       "      <td>54, rue Royale</td>\n",
       "      <td>None</td>\n",
       "      <td>Nantes</td>\n",
       "      <td>None</td>\n",
       "      <td>44000</td>\n",
       "      <td>France</td>\n",
       "      <td>1370.0</td>\n",
       "      <td>21000.0</td>\n",
       "    </tr>\n",
       "    <tr>\n",
       "      <th>1</th>\n",
       "      <td>112</td>\n",
       "      <td>Signal Gift Stores</td>\n",
       "      <td>King</td>\n",
       "      <td>Jean</td>\n",
       "      <td>7025551838</td>\n",
       "      <td>8489 Strong St.</td>\n",
       "      <td>None</td>\n",
       "      <td>Las Vegas</td>\n",
       "      <td>NV</td>\n",
       "      <td>83030</td>\n",
       "      <td>USA</td>\n",
       "      <td>1166.0</td>\n",
       "      <td>71800.0</td>\n",
       "    </tr>\n",
       "    <tr>\n",
       "      <th>2</th>\n",
       "      <td>114</td>\n",
       "      <td>Australian Collectors, Co.</td>\n",
       "      <td>Ferguson</td>\n",
       "      <td>Peter</td>\n",
       "      <td>03 9520 4555</td>\n",
       "      <td>636 St Kilda Road</td>\n",
       "      <td>Level 3</td>\n",
       "      <td>Melbourne</td>\n",
       "      <td>Victoria</td>\n",
       "      <td>3004</td>\n",
       "      <td>Australia</td>\n",
       "      <td>1611.0</td>\n",
       "      <td>117300.0</td>\n",
       "    </tr>\n",
       "    <tr>\n",
       "      <th>3</th>\n",
       "      <td>119</td>\n",
       "      <td>La Rochelle Gifts</td>\n",
       "      <td>Labrune</td>\n",
       "      <td>Janine</td>\n",
       "      <td>40.67.8555</td>\n",
       "      <td>67, rue des Cinquante Otages</td>\n",
       "      <td>None</td>\n",
       "      <td>Nantes</td>\n",
       "      <td>None</td>\n",
       "      <td>44000</td>\n",
       "      <td>France</td>\n",
       "      <td>1370.0</td>\n",
       "      <td>118200.0</td>\n",
       "    </tr>\n",
       "    <tr>\n",
       "      <th>4</th>\n",
       "      <td>121</td>\n",
       "      <td>Baane Mini Imports</td>\n",
       "      <td>Bergulfsen</td>\n",
       "      <td>Jonas</td>\n",
       "      <td>07-98 9555</td>\n",
       "      <td>Erling Skakkes gate 78</td>\n",
       "      <td>None</td>\n",
       "      <td>Stavern</td>\n",
       "      <td>None</td>\n",
       "      <td>4110</td>\n",
       "      <td>Norway</td>\n",
       "      <td>1504.0</td>\n",
       "      <td>81700.0</td>\n",
       "    </tr>\n",
       "    <tr>\n",
       "      <th>...</th>\n",
       "      <td>...</td>\n",
       "      <td>...</td>\n",
       "      <td>...</td>\n",
       "      <td>...</td>\n",
       "      <td>...</td>\n",
       "      <td>...</td>\n",
       "      <td>...</td>\n",
       "      <td>...</td>\n",
       "      <td>...</td>\n",
       "      <td>...</td>\n",
       "      <td>...</td>\n",
       "      <td>...</td>\n",
       "      <td>...</td>\n",
       "    </tr>\n",
       "    <tr>\n",
       "      <th>117</th>\n",
       "      <td>486</td>\n",
       "      <td>Motor Mint Distributors Inc.</td>\n",
       "      <td>Salazar</td>\n",
       "      <td>Rosa</td>\n",
       "      <td>2155559857</td>\n",
       "      <td>11328 Douglas Av.</td>\n",
       "      <td>None</td>\n",
       "      <td>Philadelphia</td>\n",
       "      <td>PA</td>\n",
       "      <td>71270</td>\n",
       "      <td>USA</td>\n",
       "      <td>1323.0</td>\n",
       "      <td>72600.0</td>\n",
       "    </tr>\n",
       "    <tr>\n",
       "      <th>118</th>\n",
       "      <td>487</td>\n",
       "      <td>Signal Collectibles Ltd.</td>\n",
       "      <td>Taylor</td>\n",
       "      <td>Sue</td>\n",
       "      <td>4155554312</td>\n",
       "      <td>2793 Furth Circle</td>\n",
       "      <td>None</td>\n",
       "      <td>Brisbane</td>\n",
       "      <td>CA</td>\n",
       "      <td>94217</td>\n",
       "      <td>USA</td>\n",
       "      <td>1165.0</td>\n",
       "      <td>60300.0</td>\n",
       "    </tr>\n",
       "    <tr>\n",
       "      <th>119</th>\n",
       "      <td>489</td>\n",
       "      <td>Double Decker Gift Stores, Ltd</td>\n",
       "      <td>Smith</td>\n",
       "      <td>Thomas</td>\n",
       "      <td>(171) 555-7555</td>\n",
       "      <td>120 Hanover Sq.</td>\n",
       "      <td>None</td>\n",
       "      <td>London</td>\n",
       "      <td>None</td>\n",
       "      <td>WA1 1DP</td>\n",
       "      <td>UK</td>\n",
       "      <td>1501.0</td>\n",
       "      <td>43300.0</td>\n",
       "    </tr>\n",
       "    <tr>\n",
       "      <th>120</th>\n",
       "      <td>495</td>\n",
       "      <td>Diecast Collectables</td>\n",
       "      <td>Franco</td>\n",
       "      <td>Valarie</td>\n",
       "      <td>6175552555</td>\n",
       "      <td>6251 Ingle Ln.</td>\n",
       "      <td>None</td>\n",
       "      <td>Boston</td>\n",
       "      <td>MA</td>\n",
       "      <td>51003</td>\n",
       "      <td>USA</td>\n",
       "      <td>1188.0</td>\n",
       "      <td>85100.0</td>\n",
       "    </tr>\n",
       "    <tr>\n",
       "      <th>121</th>\n",
       "      <td>496</td>\n",
       "      <td>Kelly's Gift Shop</td>\n",
       "      <td>Snowden</td>\n",
       "      <td>Tony</td>\n",
       "      <td>+64 9 5555500</td>\n",
       "      <td>Arenales 1938 3'A'</td>\n",
       "      <td>None</td>\n",
       "      <td>Auckland</td>\n",
       "      <td>None</td>\n",
       "      <td>None</td>\n",
       "      <td>New Zealand</td>\n",
       "      <td>1612.0</td>\n",
       "      <td>110000.0</td>\n",
       "    </tr>\n",
       "  </tbody>\n",
       "</table>\n",
       "<p>122 rows × 13 columns</p>\n",
       "</div>"
      ],
      "text/plain": [
       "     customerNumber                    customerName contactLastName  \\\n",
       "0               103               Atelier graphique         Schmitt   \n",
       "1               112              Signal Gift Stores            King   \n",
       "2               114      Australian Collectors, Co.        Ferguson   \n",
       "3               119               La Rochelle Gifts         Labrune   \n",
       "4               121              Baane Mini Imports      Bergulfsen   \n",
       "..              ...                             ...             ...   \n",
       "117             486    Motor Mint Distributors Inc.         Salazar   \n",
       "118             487        Signal Collectibles Ltd.          Taylor   \n",
       "119             489  Double Decker Gift Stores, Ltd           Smith   \n",
       "120             495            Diecast Collectables          Franco   \n",
       "121             496               Kelly's Gift Shop         Snowden   \n",
       "\n",
       "    contactFirstName           phone                  addressLine1  \\\n",
       "0            Carine       40.32.2555                54, rue Royale   \n",
       "1               Jean      7025551838               8489 Strong St.   \n",
       "2              Peter    03 9520 4555             636 St Kilda Road   \n",
       "3            Janine       40.67.8555  67, rue des Cinquante Otages   \n",
       "4             Jonas       07-98 9555        Erling Skakkes gate 78   \n",
       "..               ...             ...                           ...   \n",
       "117             Rosa      2155559857             11328 Douglas Av.   \n",
       "118              Sue      4155554312             2793 Furth Circle   \n",
       "119          Thomas   (171) 555-7555               120 Hanover Sq.   \n",
       "120          Valarie      6175552555                6251 Ingle Ln.   \n",
       "121             Tony   +64 9 5555500            Arenales 1938 3'A'   \n",
       "\n",
       "    addressLine2          city     state postalCode      country  \\\n",
       "0           None        Nantes      None      44000       France   \n",
       "1           None     Las Vegas        NV      83030          USA   \n",
       "2        Level 3     Melbourne  Victoria       3004    Australia   \n",
       "3           None        Nantes      None      44000       France   \n",
       "4           None       Stavern      None       4110       Norway   \n",
       "..           ...           ...       ...        ...          ...   \n",
       "117         None  Philadelphia        PA      71270          USA   \n",
       "118         None      Brisbane        CA      94217          USA   \n",
       "119         None        London      None    WA1 1DP           UK   \n",
       "120         None        Boston        MA      51003          USA   \n",
       "121         None    Auckland        None       None  New Zealand   \n",
       "\n",
       "     salesRepEmployeeNumber  creditLimit  \n",
       "0                    1370.0      21000.0  \n",
       "1                    1166.0      71800.0  \n",
       "2                    1611.0     117300.0  \n",
       "3                    1370.0     118200.0  \n",
       "4                    1504.0      81700.0  \n",
       "..                      ...          ...  \n",
       "117                  1323.0      72600.0  \n",
       "118                  1165.0      60300.0  \n",
       "119                  1501.0      43300.0  \n",
       "120                  1188.0      85100.0  \n",
       "121                  1612.0     110000.0  \n",
       "\n",
       "[122 rows x 13 columns]"
      ]
     },
     "execution_count": 3,
     "metadata": {},
     "output_type": "execute_result"
    }
   ],
   "source": [
    "pd.read_sql(\"select * from customers\", con1)"
   ]
  },
  {
   "cell_type": "code",
   "execution_count": 4,
   "metadata": {},
   "outputs": [
    {
     "data": {
      "text/html": [
       "<div>\n",
       "<style scoped>\n",
       "    .dataframe tbody tr th:only-of-type {\n",
       "        vertical-align: middle;\n",
       "    }\n",
       "\n",
       "    .dataframe tbody tr th {\n",
       "        vertical-align: top;\n",
       "    }\n",
       "\n",
       "    .dataframe thead th {\n",
       "        text-align: right;\n",
       "    }\n",
       "</style>\n",
       "<table border=\"1\" class=\"dataframe\">\n",
       "  <thead>\n",
       "    <tr style=\"text-align: right;\">\n",
       "      <th></th>\n",
       "      <th>customerName</th>\n",
       "      <th>productName</th>\n",
       "      <th>quantityOrdered</th>\n",
       "      <th>priceEach</th>\n",
       "      <th>totalPrice</th>\n",
       "    </tr>\n",
       "  </thead>\n",
       "  <tbody>\n",
       "    <tr>\n",
       "      <th>0</th>\n",
       "      <td>Atelier graphique</td>\n",
       "      <td>1965 Aston Martin DB5</td>\n",
       "      <td>26</td>\n",
       "      <td>120.71</td>\n",
       "      <td>3138.46</td>\n",
       "    </tr>\n",
       "    <tr>\n",
       "      <th>1</th>\n",
       "      <td>Atelier graphique</td>\n",
       "      <td>1999 Indy 500 Monte Carlo SS</td>\n",
       "      <td>46</td>\n",
       "      <td>114.84</td>\n",
       "      <td>5282.64</td>\n",
       "    </tr>\n",
       "    <tr>\n",
       "      <th>2</th>\n",
       "      <td>Atelier graphique</td>\n",
       "      <td>1948 Porsche Type 356 Roadster</td>\n",
       "      <td>34</td>\n",
       "      <td>117.26</td>\n",
       "      <td>3986.84</td>\n",
       "    </tr>\n",
       "    <tr>\n",
       "      <th>3</th>\n",
       "      <td>Atelier graphique</td>\n",
       "      <td>1966 Shelby Cobra 427 S/C</td>\n",
       "      <td>50</td>\n",
       "      <td>43.27</td>\n",
       "      <td>2163.50</td>\n",
       "    </tr>\n",
       "  </tbody>\n",
       "</table>\n",
       "</div>"
      ],
      "text/plain": [
       "        customerName                     productName  quantityOrdered  \\\n",
       "0  Atelier graphique           1965 Aston Martin DB5               26   \n",
       "1  Atelier graphique    1999 Indy 500 Monte Carlo SS               46   \n",
       "2  Atelier graphique  1948 Porsche Type 356 Roadster               34   \n",
       "3  Atelier graphique       1966 Shelby Cobra 427 S/C               50   \n",
       "\n",
       "   priceEach  totalPrice  \n",
       "0     120.71     3138.46  \n",
       "1     114.84     5282.64  \n",
       "2     117.26     3986.84  \n",
       "3      43.27     2163.50  "
      ]
     },
     "execution_count": 4,
     "metadata": {},
     "output_type": "execute_result"
    }
   ],
   "source": [
    "# Soal II.1\n",
    "\n",
    "query = \"select c.customerName, pd.productName, od.quantityOrdered, od.priceEach, (od.quantityOrdered*od.priceEach) as totalPrice\"\n",
    "query += \" from customers c join payments p  on c.customerNumber = p.customerNumber join orders o on c.customerNumber=o.customerNumber join orderdetails od on o.orderNumber=od.orderNumber join products pd on pd.productCode=od.productCode where p.paymentDate = '2003-06-05' limit 4\"\n",
    "\n",
    "orderdate = pd.read_sql(query, con1)\n",
    "orderdate"
   ]
  },
  {
   "cell_type": "code",
   "execution_count": 5,
   "metadata": {},
   "outputs": [
    {
     "data": {
      "text/html": [
       "<div>\n",
       "<style scoped>\n",
       "    .dataframe tbody tr th:only-of-type {\n",
       "        vertical-align: middle;\n",
       "    }\n",
       "\n",
       "    .dataframe tbody tr th {\n",
       "        vertical-align: top;\n",
       "    }\n",
       "\n",
       "    .dataframe thead th {\n",
       "        text-align: right;\n",
       "    }\n",
       "</style>\n",
       "<table border=\"1\" class=\"dataframe\">\n",
       "  <thead>\n",
       "    <tr style=\"text-align: right;\">\n",
       "      <th></th>\n",
       "      <th>orderNumber</th>\n",
       "      <th>customerName</th>\n",
       "      <th>city</th>\n",
       "      <th>country</th>\n",
       "      <th>totalPurchase</th>\n",
       "    </tr>\n",
       "  </thead>\n",
       "  <tbody>\n",
       "    <tr>\n",
       "      <th>0</th>\n",
       "      <td>10165</td>\n",
       "      <td>Dragon Souveniers, Ltd.</td>\n",
       "      <td>Singapore</td>\n",
       "      <td>Singapore</td>\n",
       "      <td>67392.85</td>\n",
       "    </tr>\n",
       "    <tr>\n",
       "      <th>1</th>\n",
       "      <td>10287</td>\n",
       "      <td>Vida Sport, Ltd</td>\n",
       "      <td>Genève</td>\n",
       "      <td>Switzerland</td>\n",
       "      <td>61402.00</td>\n",
       "    </tr>\n",
       "    <tr>\n",
       "      <th>2</th>\n",
       "      <td>10310</td>\n",
       "      <td>Toms Spezialitäten, Ltd</td>\n",
       "      <td>Köln</td>\n",
       "      <td>Germany</td>\n",
       "      <td>61234.67</td>\n",
       "    </tr>\n",
       "    <tr>\n",
       "      <th>3</th>\n",
       "      <td>10212</td>\n",
       "      <td>Euro+ Shopping Channel</td>\n",
       "      <td>Madrid</td>\n",
       "      <td>Spain</td>\n",
       "      <td>59830.55</td>\n",
       "    </tr>\n",
       "    <tr>\n",
       "      <th>4</th>\n",
       "      <td>10207</td>\n",
       "      <td>Diecast Collectables</td>\n",
       "      <td>Boston</td>\n",
       "      <td>USA</td>\n",
       "      <td>59265.14</td>\n",
       "    </tr>\n",
       "    <tr>\n",
       "      <th>5</th>\n",
       "      <td>10127</td>\n",
       "      <td>Muscle Machine Inc</td>\n",
       "      <td>NYC</td>\n",
       "      <td>USA</td>\n",
       "      <td>58841.35</td>\n",
       "    </tr>\n",
       "    <tr>\n",
       "      <th>6</th>\n",
       "      <td>10204</td>\n",
       "      <td>Muscle Machine Inc</td>\n",
       "      <td>NYC</td>\n",
       "      <td>USA</td>\n",
       "      <td>58793.53</td>\n",
       "    </tr>\n",
       "    <tr>\n",
       "      <th>7</th>\n",
       "      <td>10126</td>\n",
       "      <td>Corrida Auto Replicas, Ltd</td>\n",
       "      <td>Madrid</td>\n",
       "      <td>Spain</td>\n",
       "      <td>57131.92</td>\n",
       "    </tr>\n",
       "    <tr>\n",
       "      <th>8</th>\n",
       "      <td>10222</td>\n",
       "      <td>Collectable Mini Designs Co.</td>\n",
       "      <td>San Diego</td>\n",
       "      <td>USA</td>\n",
       "      <td>56822.65</td>\n",
       "    </tr>\n",
       "    <tr>\n",
       "      <th>9</th>\n",
       "      <td>10142</td>\n",
       "      <td>Mini Gifts Distributors Ltd.</td>\n",
       "      <td>San Rafael</td>\n",
       "      <td>USA</td>\n",
       "      <td>56052.56</td>\n",
       "    </tr>\n",
       "  </tbody>\n",
       "</table>\n",
       "</div>"
      ],
      "text/plain": [
       "   orderNumber                  customerName        city      country  \\\n",
       "0        10165       Dragon Souveniers, Ltd.   Singapore    Singapore   \n",
       "1        10287               Vida Sport, Ltd      Genève  Switzerland   \n",
       "2        10310       Toms Spezialitäten, Ltd        Köln      Germany   \n",
       "3        10212        Euro+ Shopping Channel      Madrid        Spain   \n",
       "4        10207          Diecast Collectables      Boston          USA   \n",
       "5        10127            Muscle Machine Inc         NYC          USA   \n",
       "6        10204            Muscle Machine Inc         NYC          USA   \n",
       "7        10126    Corrida Auto Replicas, Ltd      Madrid        Spain   \n",
       "8        10222  Collectable Mini Designs Co.   San Diego          USA   \n",
       "9        10142  Mini Gifts Distributors Ltd.  San Rafael          USA   \n",
       "\n",
       "   totalPurchase  \n",
       "0       67392.85  \n",
       "1       61402.00  \n",
       "2       61234.67  \n",
       "3       59830.55  \n",
       "4       59265.14  \n",
       "5       58841.35  \n",
       "6       58793.53  \n",
       "7       57131.92  \n",
       "8       56822.65  \n",
       "9       56052.56  "
      ]
     },
     "execution_count": 5,
     "metadata": {},
     "output_type": "execute_result"
    }
   ],
   "source": [
    "#soal II.2\n",
    "\n",
    "query1 = \"select o.orderNumber, c.customerName, c.city, c.country, sum(od.quantityOrdered*od.priceEach) as totalPurchase\"\n",
    "query1 += \" from customers c join orders o on c.customerNumber = o.customerNumber join orderdetails od on o.orderNumber=od.orderNumber group by o.orderNumber order by totalPurchase desc limit 10\"\n",
    "\n",
    "orderdate1 = pd.read_sql(query1, con1)\n",
    "orderdate1"
   ]
  },
  {
   "cell_type": "code",
   "execution_count": 6,
   "metadata": {},
   "outputs": [
    {
     "data": {
      "text/html": [
       "<div>\n",
       "<style scoped>\n",
       "    .dataframe tbody tr th:only-of-type {\n",
       "        vertical-align: middle;\n",
       "    }\n",
       "\n",
       "    .dataframe tbody tr th {\n",
       "        vertical-align: top;\n",
       "    }\n",
       "\n",
       "    .dataframe thead th {\n",
       "        text-align: right;\n",
       "    }\n",
       "</style>\n",
       "<table border=\"1\" class=\"dataframe\">\n",
       "  <thead>\n",
       "    <tr style=\"text-align: right;\">\n",
       "      <th></th>\n",
       "      <th>mostWanted2003</th>\n",
       "      <th>quantityOrdered</th>\n",
       "    </tr>\n",
       "  </thead>\n",
       "  <tbody>\n",
       "    <tr>\n",
       "      <th>0</th>\n",
       "      <td>1992 Ferrari 360 Spider red</td>\n",
       "      <td>672.0</td>\n",
       "    </tr>\n",
       "    <tr>\n",
       "      <th>1</th>\n",
       "      <td>1936 Mercedes-Benz 500K Special Roadster</td>\n",
       "      <td>429.0</td>\n",
       "    </tr>\n",
       "    <tr>\n",
       "      <th>2</th>\n",
       "      <td>1964 Mercedes Tour Bus</td>\n",
       "      <td>427.0</td>\n",
       "    </tr>\n",
       "    <tr>\n",
       "      <th>3</th>\n",
       "      <td>1940s Ford truck</td>\n",
       "      <td>408.0</td>\n",
       "    </tr>\n",
       "    <tr>\n",
       "      <th>4</th>\n",
       "      <td>1926 Ford Fire Engine</td>\n",
       "      <td>393.0</td>\n",
       "    </tr>\n",
       "    <tr>\n",
       "      <th>5</th>\n",
       "      <td>1956 Porsche 356A Coupe</td>\n",
       "      <td>389.0</td>\n",
       "    </tr>\n",
       "    <tr>\n",
       "      <th>6</th>\n",
       "      <td>1965 Aston Martin DB5</td>\n",
       "      <td>382.0</td>\n",
       "    </tr>\n",
       "    <tr>\n",
       "      <th>7</th>\n",
       "      <td>1948 Porsche Type 356 Roadster</td>\n",
       "      <td>382.0</td>\n",
       "    </tr>\n",
       "    <tr>\n",
       "      <th>8</th>\n",
       "      <td>1996 Peterbilt 379 Stake Bed with Outrigger</td>\n",
       "      <td>373.0</td>\n",
       "    </tr>\n",
       "    <tr>\n",
       "      <th>9</th>\n",
       "      <td>1950's Chicago Surface Lines Streetcar</td>\n",
       "      <td>372.0</td>\n",
       "    </tr>\n",
       "  </tbody>\n",
       "</table>\n",
       "</div>"
      ],
      "text/plain": [
       "                                mostWanted2003  quantityOrdered\n",
       "0                  1992 Ferrari 360 Spider red            672.0\n",
       "1     1936 Mercedes-Benz 500K Special Roadster            429.0\n",
       "2                       1964 Mercedes Tour Bus            427.0\n",
       "3                             1940s Ford truck            408.0\n",
       "4                        1926 Ford Fire Engine            393.0\n",
       "5                      1956 Porsche 356A Coupe            389.0\n",
       "6                        1965 Aston Martin DB5            382.0\n",
       "7               1948 Porsche Type 356 Roadster            382.0\n",
       "8  1996 Peterbilt 379 Stake Bed with Outrigger            373.0\n",
       "9       1950's Chicago Surface Lines Streetcar            372.0"
      ]
     },
     "execution_count": 6,
     "metadata": {},
     "output_type": "execute_result"
    }
   ],
   "source": [
    "query2 = \"select p.productName as mostWanted2003, sum(od.quantityOrdered) as quantityOrdered\"\n",
    "query2 += \" from products p join orderdetails od on p.productCode=od.productCode join orders o on o.orderNumber=od.orderNumber where o.orderDate < '2004-01-01' group by mostWanted2003 order by quantityOrdered desc limit 10\"\n",
    "\n",
    "orderdate2 = pd.read_sql(query2, con1)\n",
    "orderdate2"
   ]
  },
  {
   "cell_type": "code",
   "execution_count": 7,
   "metadata": {},
   "outputs": [],
   "source": [
    "##Data Visualization Test"
   ]
  },
  {
   "cell_type": "code",
   "execution_count": 8,
   "metadata": {},
   "outputs": [],
   "source": [
    "collision = pd.read_csv('collision_data.csv') "
   ]
  },
  {
   "cell_type": "code",
   "execution_count": 9,
   "metadata": {},
   "outputs": [
    {
     "data": {
      "text/html": [
       "<div>\n",
       "<style scoped>\n",
       "    .dataframe tbody tr th:only-of-type {\n",
       "        vertical-align: middle;\n",
       "    }\n",
       "\n",
       "    .dataframe tbody tr th {\n",
       "        vertical-align: top;\n",
       "    }\n",
       "\n",
       "    .dataframe thead th {\n",
       "        text-align: right;\n",
       "    }\n",
       "</style>\n",
       "<table border=\"1\" class=\"dataframe\">\n",
       "  <thead>\n",
       "    <tr style=\"text-align: right;\">\n",
       "      <th></th>\n",
       "      <th>Unnamed: 0</th>\n",
       "      <th>SEVERITYCODE</th>\n",
       "      <th>STATUS</th>\n",
       "      <th>ADDRTYPE</th>\n",
       "      <th>SEVERITYDESC</th>\n",
       "      <th>COLLISIONTYPE</th>\n",
       "      <th>PERSONCOUNT</th>\n",
       "      <th>PEDCOUNT</th>\n",
       "      <th>PEDCYLCOUNT</th>\n",
       "      <th>VEHCOUNT</th>\n",
       "      <th>...</th>\n",
       "      <th>JUNCTIONTYPE</th>\n",
       "      <th>SDOT_COLCODE</th>\n",
       "      <th>SDOT_COLDESC</th>\n",
       "      <th>UNDERINFL</th>\n",
       "      <th>WEATHER</th>\n",
       "      <th>ROADCOND</th>\n",
       "      <th>LIGHTCOND</th>\n",
       "      <th>ST_COLCODE</th>\n",
       "      <th>ST_COLDESC</th>\n",
       "      <th>HITPARKEDCAR</th>\n",
       "    </tr>\n",
       "  </thead>\n",
       "  <tbody>\n",
       "    <tr>\n",
       "      <th>0</th>\n",
       "      <td>0</td>\n",
       "      <td>2</td>\n",
       "      <td>Matched</td>\n",
       "      <td>Intersection</td>\n",
       "      <td>Injury Collision</td>\n",
       "      <td>Angles</td>\n",
       "      <td>2</td>\n",
       "      <td>0</td>\n",
       "      <td>0</td>\n",
       "      <td>2</td>\n",
       "      <td>...</td>\n",
       "      <td>At Intersection (intersection related)</td>\n",
       "      <td>11</td>\n",
       "      <td>MOTOR VEHICLE STRUCK MOTOR VEHICLE, FRONT END ...</td>\n",
       "      <td>0.0</td>\n",
       "      <td>Overcast</td>\n",
       "      <td>Wet</td>\n",
       "      <td>Daylight</td>\n",
       "      <td>10.0</td>\n",
       "      <td>Entering at angle</td>\n",
       "      <td>N</td>\n",
       "    </tr>\n",
       "    <tr>\n",
       "      <th>1</th>\n",
       "      <td>1</td>\n",
       "      <td>1</td>\n",
       "      <td>Matched</td>\n",
       "      <td>Block</td>\n",
       "      <td>Property Damage Only Collision</td>\n",
       "      <td>Other</td>\n",
       "      <td>3</td>\n",
       "      <td>0</td>\n",
       "      <td>0</td>\n",
       "      <td>3</td>\n",
       "      <td>...</td>\n",
       "      <td>Mid-Block (not related to intersection)</td>\n",
       "      <td>11</td>\n",
       "      <td>MOTOR VEHICLE STRUCK MOTOR VEHICLE, FRONT END ...</td>\n",
       "      <td>0.0</td>\n",
       "      <td>Clear</td>\n",
       "      <td>Dry</td>\n",
       "      <td>Daylight</td>\n",
       "      <td>23.0</td>\n",
       "      <td>From same direction - all others</td>\n",
       "      <td>N</td>\n",
       "    </tr>\n",
       "    <tr>\n",
       "      <th>2</th>\n",
       "      <td>2</td>\n",
       "      <td>1</td>\n",
       "      <td>Matched</td>\n",
       "      <td>Intersection</td>\n",
       "      <td>Property Damage Only Collision</td>\n",
       "      <td>Angles</td>\n",
       "      <td>2</td>\n",
       "      <td>0</td>\n",
       "      <td>0</td>\n",
       "      <td>2</td>\n",
       "      <td>...</td>\n",
       "      <td>At Intersection (intersection related)</td>\n",
       "      <td>11</td>\n",
       "      <td>MOTOR VEHICLE STRUCK MOTOR VEHICLE, FRONT END ...</td>\n",
       "      <td>0.0</td>\n",
       "      <td>Clear</td>\n",
       "      <td>Dry</td>\n",
       "      <td>Daylight</td>\n",
       "      <td>10.0</td>\n",
       "      <td>Entering at angle</td>\n",
       "      <td>N</td>\n",
       "    </tr>\n",
       "    <tr>\n",
       "      <th>3</th>\n",
       "      <td>3</td>\n",
       "      <td>2</td>\n",
       "      <td>Matched</td>\n",
       "      <td>Intersection</td>\n",
       "      <td>Injury Collision</td>\n",
       "      <td>Cycles</td>\n",
       "      <td>3</td>\n",
       "      <td>0</td>\n",
       "      <td>1</td>\n",
       "      <td>1</td>\n",
       "      <td>...</td>\n",
       "      <td>At Intersection (intersection related)</td>\n",
       "      <td>51</td>\n",
       "      <td>PEDALCYCLIST STRUCK MOTOR VEHICLE FRONT END AT...</td>\n",
       "      <td>0.0</td>\n",
       "      <td>Clear</td>\n",
       "      <td>Dry</td>\n",
       "      <td>Daylight</td>\n",
       "      <td>5.0</td>\n",
       "      <td>Vehicle Strikes Pedalcyclist</td>\n",
       "      <td>N</td>\n",
       "    </tr>\n",
       "    <tr>\n",
       "      <th>4</th>\n",
       "      <td>4</td>\n",
       "      <td>2</td>\n",
       "      <td>Matched</td>\n",
       "      <td>Block</td>\n",
       "      <td>Injury Collision</td>\n",
       "      <td>Head On</td>\n",
       "      <td>2</td>\n",
       "      <td>0</td>\n",
       "      <td>0</td>\n",
       "      <td>2</td>\n",
       "      <td>...</td>\n",
       "      <td>Mid-Block (not related to intersection)</td>\n",
       "      <td>11</td>\n",
       "      <td>MOTOR VEHICLE STRUCK MOTOR VEHICLE, FRONT END ...</td>\n",
       "      <td>0.0</td>\n",
       "      <td>Clear</td>\n",
       "      <td>Dry</td>\n",
       "      <td>Dark - Street Lights On</td>\n",
       "      <td>30.0</td>\n",
       "      <td>From opposite direction - all others</td>\n",
       "      <td>N</td>\n",
       "    </tr>\n",
       "  </tbody>\n",
       "</table>\n",
       "<p>5 rows × 22 columns</p>\n",
       "</div>"
      ],
      "text/plain": [
       "   Unnamed: 0  SEVERITYCODE   STATUS      ADDRTYPE  \\\n",
       "0           0             2  Matched  Intersection   \n",
       "1           1             1  Matched         Block   \n",
       "2           2             1  Matched  Intersection   \n",
       "3           3             2  Matched  Intersection   \n",
       "4           4             2  Matched         Block   \n",
       "\n",
       "                     SEVERITYDESC COLLISIONTYPE  PERSONCOUNT  PEDCOUNT  \\\n",
       "0                Injury Collision        Angles            2         0   \n",
       "1  Property Damage Only Collision         Other            3         0   \n",
       "2  Property Damage Only Collision        Angles            2         0   \n",
       "3                Injury Collision        Cycles            3         0   \n",
       "4                Injury Collision       Head On            2         0   \n",
       "\n",
       "   PEDCYLCOUNT  VEHCOUNT  ...                             JUNCTIONTYPE  \\\n",
       "0            0         2  ...   At Intersection (intersection related)   \n",
       "1            0         3  ...  Mid-Block (not related to intersection)   \n",
       "2            0         2  ...   At Intersection (intersection related)   \n",
       "3            1         1  ...   At Intersection (intersection related)   \n",
       "4            0         2  ...  Mid-Block (not related to intersection)   \n",
       "\n",
       "  SDOT_COLCODE                                       SDOT_COLDESC  UNDERINFL  \\\n",
       "0           11  MOTOR VEHICLE STRUCK MOTOR VEHICLE, FRONT END ...        0.0   \n",
       "1           11  MOTOR VEHICLE STRUCK MOTOR VEHICLE, FRONT END ...        0.0   \n",
       "2           11  MOTOR VEHICLE STRUCK MOTOR VEHICLE, FRONT END ...        0.0   \n",
       "3           51  PEDALCYCLIST STRUCK MOTOR VEHICLE FRONT END AT...        0.0   \n",
       "4           11  MOTOR VEHICLE STRUCK MOTOR VEHICLE, FRONT END ...        0.0   \n",
       "\n",
       "    WEATHER  ROADCOND                LIGHTCOND ST_COLCODE  \\\n",
       "0  Overcast       Wet                 Daylight       10.0   \n",
       "1     Clear       Dry                 Daylight       23.0   \n",
       "2     Clear       Dry                 Daylight       10.0   \n",
       "3     Clear       Dry                 Daylight        5.0   \n",
       "4     Clear       Dry  Dark - Street Lights On       30.0   \n",
       "\n",
       "                             ST_COLDESC  HITPARKEDCAR  \n",
       "0                     Entering at angle             N  \n",
       "1      From same direction - all others             N  \n",
       "2                     Entering at angle             N  \n",
       "3          Vehicle Strikes Pedalcyclist             N  \n",
       "4  From opposite direction - all others             N  \n",
       "\n",
       "[5 rows x 22 columns]"
      ]
     },
     "execution_count": 9,
     "metadata": {},
     "output_type": "execute_result"
    }
   ],
   "source": [
    "collision.head()"
   ]
  },
  {
   "cell_type": "code",
   "execution_count": 10,
   "metadata": {},
   "outputs": [
    {
     "data": {
      "text/html": [
       "<div>\n",
       "<style scoped>\n",
       "    .dataframe tbody tr th:only-of-type {\n",
       "        vertical-align: middle;\n",
       "    }\n",
       "\n",
       "    .dataframe tbody tr th {\n",
       "        vertical-align: top;\n",
       "    }\n",
       "\n",
       "    .dataframe thead th {\n",
       "        text-align: right;\n",
       "    }\n",
       "</style>\n",
       "<table border=\"1\" class=\"dataframe\">\n",
       "  <thead>\n",
       "    <tr style=\"text-align: right;\">\n",
       "      <th></th>\n",
       "      <th>Unnamed: 0</th>\n",
       "      <th>SEVERITYCODE</th>\n",
       "      <th>PERSONCOUNT</th>\n",
       "      <th>PEDCOUNT</th>\n",
       "      <th>PEDCYLCOUNT</th>\n",
       "      <th>VEHCOUNT</th>\n",
       "      <th>SDOT_COLCODE</th>\n",
       "      <th>UNDERINFL</th>\n",
       "      <th>ST_COLCODE</th>\n",
       "    </tr>\n",
       "  </thead>\n",
       "  <tbody>\n",
       "    <tr>\n",
       "      <th>count</th>\n",
       "      <td>99976.000000</td>\n",
       "      <td>99976.000000</td>\n",
       "      <td>99976.000000</td>\n",
       "      <td>99976.000000</td>\n",
       "      <td>99976.000000</td>\n",
       "      <td>99976.000000</td>\n",
       "      <td>99976.000000</td>\n",
       "      <td>99976.000000</td>\n",
       "      <td>99976.000000</td>\n",
       "    </tr>\n",
       "    <tr>\n",
       "      <th>mean</th>\n",
       "      <td>49987.500000</td>\n",
       "      <td>1.324328</td>\n",
       "      <td>2.438305</td>\n",
       "      <td>0.044581</td>\n",
       "      <td>0.035919</td>\n",
       "      <td>1.964361</td>\n",
       "      <td>14.283308</td>\n",
       "      <td>0.050212</td>\n",
       "      <td>22.058154</td>\n",
       "    </tr>\n",
       "    <tr>\n",
       "      <th>std</th>\n",
       "      <td>28860.729593</td>\n",
       "      <td>0.468125</td>\n",
       "      <td>1.421063</td>\n",
       "      <td>0.216829</td>\n",
       "      <td>0.187214</td>\n",
       "      <td>0.584710</td>\n",
       "      <td>6.840410</td>\n",
       "      <td>0.218383</td>\n",
       "      <td>14.804548</td>\n",
       "    </tr>\n",
       "    <tr>\n",
       "      <th>min</th>\n",
       "      <td>0.000000</td>\n",
       "      <td>1.000000</td>\n",
       "      <td>0.000000</td>\n",
       "      <td>0.000000</td>\n",
       "      <td>0.000000</td>\n",
       "      <td>0.000000</td>\n",
       "      <td>0.000000</td>\n",
       "      <td>0.000000</td>\n",
       "      <td>0.000000</td>\n",
       "    </tr>\n",
       "    <tr>\n",
       "      <th>25%</th>\n",
       "      <td>24993.750000</td>\n",
       "      <td>1.000000</td>\n",
       "      <td>2.000000</td>\n",
       "      <td>0.000000</td>\n",
       "      <td>0.000000</td>\n",
       "      <td>2.000000</td>\n",
       "      <td>11.000000</td>\n",
       "      <td>0.000000</td>\n",
       "      <td>10.000000</td>\n",
       "    </tr>\n",
       "    <tr>\n",
       "      <th>50%</th>\n",
       "      <td>49987.500000</td>\n",
       "      <td>1.000000</td>\n",
       "      <td>2.000000</td>\n",
       "      <td>0.000000</td>\n",
       "      <td>0.000000</td>\n",
       "      <td>2.000000</td>\n",
       "      <td>13.000000</td>\n",
       "      <td>0.000000</td>\n",
       "      <td>14.000000</td>\n",
       "    </tr>\n",
       "    <tr>\n",
       "      <th>75%</th>\n",
       "      <td>74981.250000</td>\n",
       "      <td>2.000000</td>\n",
       "      <td>3.000000</td>\n",
       "      <td>0.000000</td>\n",
       "      <td>0.000000</td>\n",
       "      <td>2.000000</td>\n",
       "      <td>14.000000</td>\n",
       "      <td>0.000000</td>\n",
       "      <td>32.000000</td>\n",
       "    </tr>\n",
       "    <tr>\n",
       "      <th>max</th>\n",
       "      <td>99975.000000</td>\n",
       "      <td>2.000000</td>\n",
       "      <td>57.000000</td>\n",
       "      <td>6.000000</td>\n",
       "      <td>2.000000</td>\n",
       "      <td>12.000000</td>\n",
       "      <td>69.000000</td>\n",
       "      <td>1.000000</td>\n",
       "      <td>88.000000</td>\n",
       "    </tr>\n",
       "  </tbody>\n",
       "</table>\n",
       "</div>"
      ],
      "text/plain": [
       "         Unnamed: 0  SEVERITYCODE   PERSONCOUNT      PEDCOUNT   PEDCYLCOUNT  \\\n",
       "count  99976.000000  99976.000000  99976.000000  99976.000000  99976.000000   \n",
       "mean   49987.500000      1.324328      2.438305      0.044581      0.035919   \n",
       "std    28860.729593      0.468125      1.421063      0.216829      0.187214   \n",
       "min        0.000000      1.000000      0.000000      0.000000      0.000000   \n",
       "25%    24993.750000      1.000000      2.000000      0.000000      0.000000   \n",
       "50%    49987.500000      1.000000      2.000000      0.000000      0.000000   \n",
       "75%    74981.250000      2.000000      3.000000      0.000000      0.000000   \n",
       "max    99975.000000      2.000000     57.000000      6.000000      2.000000   \n",
       "\n",
       "           VEHCOUNT  SDOT_COLCODE     UNDERINFL    ST_COLCODE  \n",
       "count  99976.000000  99976.000000  99976.000000  99976.000000  \n",
       "mean       1.964361     14.283308      0.050212     22.058154  \n",
       "std        0.584710      6.840410      0.218383     14.804548  \n",
       "min        0.000000      0.000000      0.000000      0.000000  \n",
       "25%        2.000000     11.000000      0.000000     10.000000  \n",
       "50%        2.000000     13.000000      0.000000     14.000000  \n",
       "75%        2.000000     14.000000      0.000000     32.000000  \n",
       "max       12.000000     69.000000      1.000000     88.000000  "
      ]
     },
     "execution_count": 10,
     "metadata": {},
     "output_type": "execute_result"
    }
   ],
   "source": [
    "collision.describe()"
   ]
  },
  {
   "cell_type": "code",
   "execution_count": 11,
   "metadata": {},
   "outputs": [
    {
     "data": {
      "text/plain": [
       "Index(['Unnamed: 0', 'SEVERITYCODE', 'STATUS', 'ADDRTYPE', 'SEVERITYDESC',\n",
       "       'COLLISIONTYPE', 'PERSONCOUNT', 'PEDCOUNT', 'PEDCYLCOUNT', 'VEHCOUNT',\n",
       "       'INCDATE', 'INCDTTM', 'JUNCTIONTYPE', 'SDOT_COLCODE', 'SDOT_COLDESC',\n",
       "       'UNDERINFL', 'WEATHER', 'ROADCOND', 'LIGHTCOND', 'ST_COLCODE',\n",
       "       'ST_COLDESC', 'HITPARKEDCAR'],\n",
       "      dtype='object')"
      ]
     },
     "execution_count": 11,
     "metadata": {},
     "output_type": "execute_result"
    }
   ],
   "source": [
    "collision.columns"
   ]
  },
  {
   "cell_type": "markdown",
   "metadata": {},
   "source": [
    "## Soal III.1"
   ]
  },
  {
   "cell_type": "code",
   "execution_count": 12,
   "metadata": {},
   "outputs": [
    {
     "data": {
      "image/png": "[encoded data removed]",
      "text/plain": [
       "<Figure size 432x288 with 1 Axes>"
      ]
     },
     "metadata": {
      "needs_background": "light"
     },
     "output_type": "display_data"
    }
   ],
   "source": [
    "sns.countplot(collision['SEVERITYDESC'])\n",
    "plt.show()"
   ]
  },
  {
   "cell_type": "code",
   "execution_count": 13,
   "metadata": {},
   "outputs": [
    {
     "data": {
      "text/plain": [
       "Property Damage Only Collision    67.567216\n",
       "Injury Collision                  32.432784\n",
       "Name: SEVERITYDESC, dtype: float64"
      ]
     },
     "execution_count": 13,
     "metadata": {},
     "output_type": "execute_result"
    }
   ],
   "source": [
    "collision['SEVERITYDESC'].value_counts(normalize=True)*100"
   ]
  },
  {
   "cell_type": "markdown",
   "metadata": {},
   "source": [
    "### Berdasarkan perhitungan dan plot diatas dapat disimpulkan bahwa kecelakaan dengan kategory Property Damage Only Collision lebih tinggi daripada Injury Collision. Hal ini dapat terlihat dari nilai rasio Property Damage Only Collision sebesar 67.56% dan Injury Collision sebesar sisanya yakni 32.44%"
   ]
  },
  {
   "cell_type": "markdown",
   "metadata": {},
   "source": [
    "## Soal III.2"
   ]
  },
  {
   "cell_type": "code",
   "execution_count": 14,
   "metadata": {},
   "outputs": [
    {
     "name": "stdout",
     "output_type": "stream",
     "text": [
      "Nilai Mean = 2.438305193246379\n",
      "Nilai Median = 2.0\n",
      "Nilai Mode = 0    2\n",
      "dtype: int64\n",
      "Nilai Stdev = 1.421062813248801\n"
     ]
    }
   ],
   "source": [
    "# PERSONCOUNT\n",
    "\n",
    "print('Nilai Mean =',collision['PERSONCOUNT'].mean())\n",
    "print('Nilai Median =',collision['PERSONCOUNT'].median())\n",
    "print('Nilai Mode =',collision['PERSONCOUNT'].mode())\n",
    "print('Nilai Stdev =',collision['PERSONCOUNT'].std())\n"
   ]
  },
  {
   "cell_type": "code",
   "execution_count": 15,
   "metadata": {},
   "outputs": [
    {
     "name": "stdout",
     "output_type": "stream",
     "text": [
      "Nilai IQR = 1.0\n",
      "Nilai lowerbound = 0.5\n",
      "Nilai upperbound = 4.5\n"
     ]
    }
   ],
   "source": [
    "q1 = collision['PERSONCOUNT'].describe()['25%']\n",
    "q2 = collision['PERSONCOUNT'].describe()['50%']\n",
    "q3 = collision['PERSONCOUNT'].describe()['75%']\n",
    "iqr = q3 - q1\n",
    "lower_bound_1 = q1 - 1.5*iqr\n",
    "upper_bound_1 = q3 + 1.5*iqr\n",
    "print('Nilai IQR =', iqr)\n",
    "print('Nilai lowerbound =', lower_bound_1)\n",
    "print('Nilai upperbound =', upper_bound_1)"
   ]
  },
  {
   "cell_type": "code",
   "execution_count": 16,
   "metadata": {},
   "outputs": [
    {
     "data": {
      "text/plain": [
       "SkewtestResult(statistic=285.6435450184219, pvalue=0.0)"
      ]
     },
     "execution_count": 16,
     "metadata": {},
     "output_type": "execute_result"
    }
   ],
   "source": [
    "stats.skewtest(collision['PERSONCOUNT'])"
   ]
  },
  {
   "cell_type": "code",
   "execution_count": 17,
   "metadata": {},
   "outputs": [
    {
     "name": "stdout",
     "output_type": "stream",
     "text": [
      "Nilai Mean = 0.04458069936784828\n",
      "Nilai Median = 0.0\n",
      "Nilai Mode = 0    0\n",
      "dtype: int64\n",
      "Nilai Stdev = 0.21682894623920368\n"
     ]
    }
   ],
   "source": [
    "#PEDCOUNT\n",
    "\n",
    "print('Nilai Mean =',collision['PEDCOUNT'].mean())\n",
    "print('Nilai Median =',collision['PEDCOUNT'].median())\n",
    "print('Nilai Mode =',collision['PEDCOUNT'].mode())\n",
    "print('Nilai Stdev =',collision['PEDCOUNT'].std())"
   ]
  },
  {
   "cell_type": "code",
   "execution_count": 18,
   "metadata": {},
   "outputs": [
    {
     "name": "stdout",
     "output_type": "stream",
     "text": [
      "Nilai IQR = 0.0\n",
      "Nilai lowerbound = 0.0\n",
      "Nilai upperbound = 0.0\n"
     ]
    }
   ],
   "source": [
    "q1 = collision['PEDCOUNT'].describe()['25%']\n",
    "q2 = collision['PEDCOUNT'].describe()['50%']\n",
    "q3 = collision['PEDCOUNT'].describe()['75%']\n",
    "iqr = q3 - q1\n",
    "lower_bound_2 = q1 - 1.5*iqr\n",
    "upper_bound_2 = q3 + 1.5*iqr\n",
    "print('Nilai IQR =', iqr)\n",
    "print('Nilai lowerbound =', lower_bound_2)\n",
    "print('Nilai upperbound =', upper_bound_2)\n"
   ]
  },
  {
   "cell_type": "code",
   "execution_count": 19,
   "metadata": {},
   "outputs": [
    {
     "data": {
      "text/plain": [
       "SkewtestResult(statistic=272.38392305290154, pvalue=0.0)"
      ]
     },
     "execution_count": 19,
     "metadata": {},
     "output_type": "execute_result"
    }
   ],
   "source": [
    "stats.skewtest(collision['PEDCOUNT'])"
   ]
  },
  {
   "cell_type": "code",
   "execution_count": 20,
   "metadata": {},
   "outputs": [
    {
     "name": "stdout",
     "output_type": "stream",
     "text": [
      "Nilai Mean = 0.03591862046891254\n",
      "Nilai Median = 0.0\n",
      "Nilai Mode = 0    0\n",
      "dtype: int64\n",
      "Nilai Stdev = 0.18721358009008263\n"
     ]
    }
   ],
   "source": [
    "#PEDCYLCOUNT\n",
    "\n",
    "print('Nilai Mean =',collision['PEDCYLCOUNT'].mean())\n",
    "print('Nilai Median =',collision['PEDCYLCOUNT'].median())\n",
    "print('Nilai Mode =',collision['PEDCYLCOUNT'].mode())\n",
    "print('Nilai Stdev =',collision['PEDCYLCOUNT'].std())"
   ]
  },
  {
   "cell_type": "code",
   "execution_count": 21,
   "metadata": {},
   "outputs": [
    {
     "name": "stdout",
     "output_type": "stream",
     "text": [
      "Nilai IQR = 0.0\n",
      "Nilai lowerbound = 0.0\n",
      "Nilai upperbound = 0.0\n"
     ]
    }
   ],
   "source": [
    "q1 = collision['PEDCYLCOUNT'].describe()['25%']\n",
    "q2 = collision['PEDCYLCOUNT'].describe()['50%']\n",
    "q3 = collision['PEDCYLCOUNT'].describe()['75%']\n",
    "iqr = q3 - q1\n",
    "lower_bound_3 = q1 - 1.5*iqr\n",
    "upper_bound_3 = q3 + 1.5*iqr\n",
    "print('Nilai IQR =', iqr)\n",
    "print('Nilai lowerbound =', lower_bound_3)\n",
    "print('Nilai upperbound =', upper_bound_3)"
   ]
  },
  {
   "cell_type": "code",
   "execution_count": 22,
   "metadata": {},
   "outputs": [
    {
     "data": {
      "text/plain": [
       "SkewtestResult(statistic=266.5101042396131, pvalue=0.0)"
      ]
     },
     "execution_count": 22,
     "metadata": {},
     "output_type": "execute_result"
    }
   ],
   "source": [
    "stats.skewtest(collision['PEDCYLCOUNT'])"
   ]
  },
  {
   "cell_type": "code",
   "execution_count": 23,
   "metadata": {},
   "outputs": [
    {
     "name": "stdout",
     "output_type": "stream",
     "text": [
      "Nilai Mean = 1.9643614467472192\n",
      "Nilai Median = 2.0\n",
      "Nilai Mode = 0    2\n",
      "dtype: int64\n",
      "Nilai Stdev = 0.5847099022292137\n"
     ]
    }
   ],
   "source": [
    "#VEHCOUNT\n",
    "\n",
    "print('Nilai Mean =',collision['VEHCOUNT'].mean())\n",
    "print('Nilai Median =',collision['VEHCOUNT'].median())\n",
    "print('Nilai Mode =',collision['VEHCOUNT'].mode())\n",
    "print('Nilai Stdev =',collision['VEHCOUNT'].std())"
   ]
  },
  {
   "cell_type": "code",
   "execution_count": 24,
   "metadata": {},
   "outputs": [
    {
     "name": "stdout",
     "output_type": "stream",
     "text": [
      "Nilai IQR = 0.0\n",
      "Nilai lowerbound = 2.0\n",
      "Nilai upperbound = 2.0\n"
     ]
    }
   ],
   "source": [
    "q1 = collision['VEHCOUNT'].describe()['25%']\n",
    "q2 = collision['VEHCOUNT'].describe()['50%']\n",
    "q3 = collision['VEHCOUNT'].describe()['75%']\n",
    "iqr = q3 - q1\n",
    "lower_bound_4 = q1 - 1.5*iqr\n",
    "upper_bound_4 = q3 + 1.5*iqr\n",
    "print('Nilai IQR =', iqr)\n",
    "print('Nilai lowerbound =', lower_bound_4)\n",
    "print('Nilai upperbound =', upper_bound_4)"
   ]
  },
  {
   "cell_type": "code",
   "execution_count": 25,
   "metadata": {},
   "outputs": [
    {
     "data": {
      "text/plain": [
       "SkewtestResult(statistic=148.14664363358742, pvalue=0.0)"
      ]
     },
     "execution_count": 25,
     "metadata": {},
     "output_type": "execute_result"
    }
   ],
   "source": [
    "stats.skewtest(collision['VEHCOUNT'])"
   ]
  },
  {
   "cell_type": "markdown",
   "metadata": {},
   "source": [
    "## Soal III.3"
   ]
  },
  {
   "cell_type": "code",
   "execution_count": 26,
   "metadata": {},
   "outputs": [
    {
     "data": {
      "image/png": "[encoded data removed]",
      "text/plain": [
       "<Figure size 720x576 with 1 Axes>"
      ]
     },
     "metadata": {
      "needs_background": "light"
     },
     "output_type": "display_data"
    }
   ],
   "source": [
    "plt.figure(figsize=(10,8))\n",
    "plt.boxplot(collision['PERSONCOUNT'])\n",
    "plt.axhline(collision['PERSONCOUNT'].median(), color='blue')\n",
    "plt.axhline(lower_bound_1, color='orange')\n",
    "plt.axhline(upper_bound_1, color='green')\n",
    "plt.show()"
   ]
  },
  {
   "cell_type": "code",
   "execution_count": 27,
   "metadata": {},
   "outputs": [
    {
     "data": {
      "text/plain": [
       "0.5"
      ]
     },
     "execution_count": 27,
     "metadata": {},
     "output_type": "execute_result"
    }
   ],
   "source": [
    "lower_bound_1"
   ]
  },
  {
   "cell_type": "code",
   "execution_count": 28,
   "metadata": {},
   "outputs": [
    {
     "data": {
      "image/png": "[encoded data removed]",
      "text/plain": [
       "<Figure size 720x576 with 1 Axes>"
      ]
     },
     "metadata": {
      "needs_background": "light"
     },
     "output_type": "display_data"
    }
   ],
   "source": [
    "\n",
    "plt.figure(figsize=(10,8))\n",
    "plt.boxplot(collision['PEDCOUNT'])\n",
    "plt.axhline(collision['PEDCOUNT'].median(), color='blue')\n",
    "plt.axhline(lower_bound_2, color='orange')\n",
    "plt.axhline(upper_bound_2, color='green')\n",
    "plt.show()"
   ]
  },
  {
   "cell_type": "code",
   "execution_count": 29,
   "metadata": {},
   "outputs": [
    {
     "data": {
      "image/png": "[encoded data removed]",
      "text/plain": [
       "<Figure size 720x576 with 1 Axes>"
      ]
     },
     "metadata": {
      "needs_background": "light"
     },
     "output_type": "display_data"
    }
   ],
   "source": [
    "plt.figure(figsize=(10,8))\n",
    "plt.boxplot(collision['PEDCYLCOUNT'])\n",
    "plt.axhline(collision['PEDCYLCOUNT'].median(), color='blue')\n",
    "plt.axhline(lower_bound_3, color='orange')\n",
    "plt.axhline(upper_bound_3, color='green')\n",
    "plt.show()"
   ]
  },
  {
   "cell_type": "code",
   "execution_count": 30,
   "metadata": {},
   "outputs": [
    {
     "data": {
      "image/png": "[encoded data removed]",
      "text/plain": [
       "<Figure size 720x576 with 1 Axes>"
      ]
     },
     "metadata": {
      "needs_background": "light"
     },
     "output_type": "display_data"
    }
   ],
   "source": [
    "plt.figure(figsize=(10,8))\n",
    "plt.boxplot(collision['VEHCOUNT'])\n",
    "plt.axhline(collision['VEHCOUNT'].median(), color='blue')\n",
    "plt.axhline(lower_bound_4, color='orange')\n",
    "plt.axhline(upper_bound_4, color='green')\n",
    "plt.show()"
   ]
  },
  {
   "cell_type": "markdown",
   "metadata": {},
   "source": [
    "## berdasarkan hasil skewness test , kesemua kolom memiliki nilai skewness yang tinggi. Skewness yang bernilai positif berarti ekor distribusi berada di sebelah kanan nilai terbanyak."
   ]
  },
  {
   "cell_type": "markdown",
   "metadata": {},
   "source": [
    "## SOAL III.4"
   ]
  },
  {
   "cell_type": "code",
   "execution_count": 31,
   "metadata": {},
   "outputs": [
    {
     "data": {
      "text/plain": [
       "0        2013-03-27 14:54:00\n",
       "1        2013-03-29 09:26:00\n",
       "2        2019-04-20 17:42:00\n",
       "3        2020-04-15 17:47:00\n",
       "4        2013-03-31 02:09:00\n",
       "                ...         \n",
       "99971    2018-11-12 08:12:00\n",
       "99972    2018-12-18 09:14:00\n",
       "99973    2019-01-19 09:25:00\n",
       "99974    2019-01-15 16:48:00\n",
       "99975    2018-11-30 15:45:00\n",
       "Name: INCDTTM, Length: 99976, dtype: object"
      ]
     },
     "execution_count": 31,
     "metadata": {},
     "output_type": "execute_result"
    }
   ],
   "source": [
    "collision['INCDTTM']"
   ]
  },
  {
   "cell_type": "code",
   "execution_count": 32,
   "metadata": {},
   "outputs": [
    {
     "data": {
      "text/plain": [
       "0        2013\n",
       "1        2013\n",
       "2        2019\n",
       "3        2020\n",
       "4        2013\n",
       "         ... \n",
       "99971    2018\n",
       "99972    2018\n",
       "99973    2019\n",
       "99974    2019\n",
       "99975    2018\n",
       "Name: year, Length: 99976, dtype: int64"
      ]
     },
     "execution_count": 32,
     "metadata": {},
     "output_type": "execute_result"
    }
   ],
   "source": [
    "collision['year'] = pd.DatetimeIndex(collision['INCDATE']).year\n",
    "collision['hour'] = pd.DatetimeIndex(collision['INCDTTM']).hour\n",
    "collision.columns\n",
    "\n",
    "\n",
    "collision['year']"
   ]
  },
  {
   "cell_type": "code",
   "execution_count": 33,
   "metadata": {},
   "outputs": [
    {
     "data": {
      "text/html": [
       "<div>\n",
       "<style scoped>\n",
       "    .dataframe tbody tr th:only-of-type {\n",
       "        vertical-align: middle;\n",
       "    }\n",
       "\n",
       "    .dataframe tbody tr th {\n",
       "        vertical-align: top;\n",
       "    }\n",
       "\n",
       "    .dataframe thead th {\n",
       "        text-align: right;\n",
       "    }\n",
       "</style>\n",
       "<table border=\"1\" class=\"dataframe\">\n",
       "  <thead>\n",
       "    <tr style=\"text-align: right;\">\n",
       "      <th></th>\n",
       "      <th>Unnamed: 0</th>\n",
       "      <th>SEVERITYCODE</th>\n",
       "      <th>STATUS</th>\n",
       "      <th>ADDRTYPE</th>\n",
       "      <th>COLLISIONTYPE</th>\n",
       "      <th>PERSONCOUNT</th>\n",
       "      <th>PEDCOUNT</th>\n",
       "      <th>PEDCYLCOUNT</th>\n",
       "      <th>VEHCOUNT</th>\n",
       "      <th>INCDATE</th>\n",
       "      <th>...</th>\n",
       "      <th>SDOT_COLDESC</th>\n",
       "      <th>UNDERINFL</th>\n",
       "      <th>WEATHER</th>\n",
       "      <th>ROADCOND</th>\n",
       "      <th>LIGHTCOND</th>\n",
       "      <th>ST_COLCODE</th>\n",
       "      <th>ST_COLDESC</th>\n",
       "      <th>HITPARKEDCAR</th>\n",
       "      <th>year</th>\n",
       "      <th>hour</th>\n",
       "    </tr>\n",
       "    <tr>\n",
       "      <th>SEVERITYDESC</th>\n",
       "      <th></th>\n",
       "      <th></th>\n",
       "      <th></th>\n",
       "      <th></th>\n",
       "      <th></th>\n",
       "      <th></th>\n",
       "      <th></th>\n",
       "      <th></th>\n",
       "      <th></th>\n",
       "      <th></th>\n",
       "      <th></th>\n",
       "      <th></th>\n",
       "      <th></th>\n",
       "      <th></th>\n",
       "      <th></th>\n",
       "      <th></th>\n",
       "      <th></th>\n",
       "      <th></th>\n",
       "      <th></th>\n",
       "      <th></th>\n",
       "      <th></th>\n",
       "    </tr>\n",
       "  </thead>\n",
       "  <tbody>\n",
       "    <tr>\n",
       "      <th>Injury Collision</th>\n",
       "      <td>32425</td>\n",
       "      <td>32425</td>\n",
       "      <td>32425</td>\n",
       "      <td>32425</td>\n",
       "      <td>32425</td>\n",
       "      <td>32425</td>\n",
       "      <td>32425</td>\n",
       "      <td>32425</td>\n",
       "      <td>32425</td>\n",
       "      <td>32425</td>\n",
       "      <td>...</td>\n",
       "      <td>32425</td>\n",
       "      <td>32425</td>\n",
       "      <td>32425</td>\n",
       "      <td>32425</td>\n",
       "      <td>32425</td>\n",
       "      <td>32425</td>\n",
       "      <td>32425</td>\n",
       "      <td>32425</td>\n",
       "      <td>32425</td>\n",
       "      <td>32425</td>\n",
       "    </tr>\n",
       "    <tr>\n",
       "      <th>Property Damage Only Collision</th>\n",
       "      <td>67551</td>\n",
       "      <td>67551</td>\n",
       "      <td>67551</td>\n",
       "      <td>67551</td>\n",
       "      <td>67551</td>\n",
       "      <td>67551</td>\n",
       "      <td>67551</td>\n",
       "      <td>67551</td>\n",
       "      <td>67551</td>\n",
       "      <td>67551</td>\n",
       "      <td>...</td>\n",
       "      <td>67551</td>\n",
       "      <td>67551</td>\n",
       "      <td>67551</td>\n",
       "      <td>67551</td>\n",
       "      <td>67551</td>\n",
       "      <td>67551</td>\n",
       "      <td>67551</td>\n",
       "      <td>67551</td>\n",
       "      <td>67551</td>\n",
       "      <td>67551</td>\n",
       "    </tr>\n",
       "  </tbody>\n",
       "</table>\n",
       "<p>2 rows × 23 columns</p>\n",
       "</div>"
      ],
      "text/plain": [
       "                                Unnamed: 0  SEVERITYCODE  STATUS  ADDRTYPE  \\\n",
       "SEVERITYDESC                                                                 \n",
       "Injury Collision                     32425         32425   32425     32425   \n",
       "Property Damage Only Collision       67551         67551   67551     67551   \n",
       "\n",
       "                                COLLISIONTYPE  PERSONCOUNT  PEDCOUNT  \\\n",
       "SEVERITYDESC                                                           \n",
       "Injury Collision                        32425        32425     32425   \n",
       "Property Damage Only Collision          67551        67551     67551   \n",
       "\n",
       "                                PEDCYLCOUNT  VEHCOUNT  INCDATE  ...  \\\n",
       "SEVERITYDESC                                                    ...   \n",
       "Injury Collision                      32425     32425    32425  ...   \n",
       "Property Damage Only Collision        67551     67551    67551  ...   \n",
       "\n",
       "                                SDOT_COLDESC  UNDERINFL  WEATHER  ROADCOND  \\\n",
       "SEVERITYDESC                                                                 \n",
       "Injury Collision                       32425      32425    32425     32425   \n",
       "Property Damage Only Collision         67551      67551    67551     67551   \n",
       "\n",
       "                                LIGHTCOND  ST_COLCODE  ST_COLDESC  \\\n",
       "SEVERITYDESC                                                        \n",
       "Injury Collision                    32425       32425       32425   \n",
       "Property Damage Only Collision      67551       67551       67551   \n",
       "\n",
       "                                HITPARKEDCAR   year   hour  \n",
       "SEVERITYDESC                                                \n",
       "Injury Collision                       32425  32425  32425  \n",
       "Property Damage Only Collision         67551  67551  67551  \n",
       "\n",
       "[2 rows x 23 columns]"
      ]
     },
     "execution_count": 33,
     "metadata": {},
     "output_type": "execute_result"
    }
   ],
   "source": [
    "by_hour = collision.groupby(['SEVERITYDESC']).count()\n",
    "\n",
    "by_hour\n",
    "\n"
   ]
  },
  {
   "cell_type": "code",
   "execution_count": 34,
   "metadata": {},
   "outputs": [
    {
     "data": {
      "text/html": [
       "<div>\n",
       "<style scoped>\n",
       "    .dataframe tbody tr th:only-of-type {\n",
       "        vertical-align: middle;\n",
       "    }\n",
       "\n",
       "    .dataframe tbody tr th {\n",
       "        vertical-align: top;\n",
       "    }\n",
       "\n",
       "    .dataframe thead th {\n",
       "        text-align: right;\n",
       "    }\n",
       "</style>\n",
       "<table border=\"1\" class=\"dataframe\">\n",
       "  <thead>\n",
       "    <tr style=\"text-align: right;\">\n",
       "      <th></th>\n",
       "      <th>Unnamed: 0</th>\n",
       "      <th>SEVERITYCODE</th>\n",
       "      <th>STATUS</th>\n",
       "      <th>ADDRTYPE</th>\n",
       "      <th>COLLISIONTYPE</th>\n",
       "      <th>PERSONCOUNT</th>\n",
       "      <th>PEDCOUNT</th>\n",
       "      <th>PEDCYLCOUNT</th>\n",
       "      <th>VEHCOUNT</th>\n",
       "      <th>INCDATE</th>\n",
       "      <th>...</th>\n",
       "      <th>SDOT_COLDESC</th>\n",
       "      <th>UNDERINFL</th>\n",
       "      <th>WEATHER</th>\n",
       "      <th>ROADCOND</th>\n",
       "      <th>LIGHTCOND</th>\n",
       "      <th>ST_COLCODE</th>\n",
       "      <th>ST_COLDESC</th>\n",
       "      <th>HITPARKEDCAR</th>\n",
       "      <th>year</th>\n",
       "      <th>hour</th>\n",
       "    </tr>\n",
       "    <tr>\n",
       "      <th>SEVERITYDESC</th>\n",
       "      <th></th>\n",
       "      <th></th>\n",
       "      <th></th>\n",
       "      <th></th>\n",
       "      <th></th>\n",
       "      <th></th>\n",
       "      <th></th>\n",
       "      <th></th>\n",
       "      <th></th>\n",
       "      <th></th>\n",
       "      <th></th>\n",
       "      <th></th>\n",
       "      <th></th>\n",
       "      <th></th>\n",
       "      <th></th>\n",
       "      <th></th>\n",
       "      <th></th>\n",
       "      <th></th>\n",
       "      <th></th>\n",
       "      <th></th>\n",
       "      <th></th>\n",
       "    </tr>\n",
       "  </thead>\n",
       "  <tbody>\n",
       "    <tr>\n",
       "      <th>Injury Collision</th>\n",
       "      <td>565</td>\n",
       "      <td>565</td>\n",
       "      <td>565</td>\n",
       "      <td>565</td>\n",
       "      <td>565</td>\n",
       "      <td>565</td>\n",
       "      <td>565</td>\n",
       "      <td>565</td>\n",
       "      <td>565</td>\n",
       "      <td>565</td>\n",
       "      <td>...</td>\n",
       "      <td>565</td>\n",
       "      <td>565</td>\n",
       "      <td>565</td>\n",
       "      <td>565</td>\n",
       "      <td>565</td>\n",
       "      <td>565</td>\n",
       "      <td>565</td>\n",
       "      <td>565</td>\n",
       "      <td>565</td>\n",
       "      <td>565</td>\n",
       "    </tr>\n",
       "    <tr>\n",
       "      <th>Property Damage Only Collision</th>\n",
       "      <td>1854</td>\n",
       "      <td>1854</td>\n",
       "      <td>1854</td>\n",
       "      <td>1854</td>\n",
       "      <td>1854</td>\n",
       "      <td>1854</td>\n",
       "      <td>1854</td>\n",
       "      <td>1854</td>\n",
       "      <td>1854</td>\n",
       "      <td>1854</td>\n",
       "      <td>...</td>\n",
       "      <td>1854</td>\n",
       "      <td>1854</td>\n",
       "      <td>1854</td>\n",
       "      <td>1854</td>\n",
       "      <td>1854</td>\n",
       "      <td>1854</td>\n",
       "      <td>1854</td>\n",
       "      <td>1854</td>\n",
       "      <td>1854</td>\n",
       "      <td>1854</td>\n",
       "    </tr>\n",
       "  </tbody>\n",
       "</table>\n",
       "<p>2 rows × 23 columns</p>\n",
       "</div>"
      ],
      "text/plain": [
       "                                Unnamed: 0  SEVERITYCODE  STATUS  ADDRTYPE  \\\n",
       "SEVERITYDESC                                                                 \n",
       "Injury Collision                       565           565     565       565   \n",
       "Property Damage Only Collision        1854          1854    1854      1854   \n",
       "\n",
       "                                COLLISIONTYPE  PERSONCOUNT  PEDCOUNT  \\\n",
       "SEVERITYDESC                                                           \n",
       "Injury Collision                          565          565       565   \n",
       "Property Damage Only Collision           1854         1854      1854   \n",
       "\n",
       "                                PEDCYLCOUNT  VEHCOUNT  INCDATE  ...  \\\n",
       "SEVERITYDESC                                                    ...   \n",
       "Injury Collision                        565       565      565  ...   \n",
       "Property Damage Only Collision         1854      1854     1854  ...   \n",
       "\n",
       "                                SDOT_COLDESC  UNDERINFL  WEATHER  ROADCOND  \\\n",
       "SEVERITYDESC                                                                 \n",
       "Injury Collision                         565        565      565       565   \n",
       "Property Damage Only Collision          1854       1854     1854      1854   \n",
       "\n",
       "                                LIGHTCOND  ST_COLCODE  ST_COLDESC  \\\n",
       "SEVERITYDESC                                                        \n",
       "Injury Collision                      565         565         565   \n",
       "Property Damage Only Collision       1854        1854        1854   \n",
       "\n",
       "                                HITPARKEDCAR  year  hour  \n",
       "SEVERITYDESC                                              \n",
       "Injury Collision                         565   565   565  \n",
       "Property Damage Only Collision          1854  1854  1854  \n",
       "\n",
       "[2 rows x 23 columns]"
      ]
     },
     "execution_count": 34,
     "metadata": {},
     "output_type": "execute_result"
    }
   ],
   "source": [
    "a = collision[collision['hour'] == 0]\n",
    "b = a.groupby(['SEVERITYDESC']).count()\n",
    "b"
   ]
  },
  {
   "cell_type": "code",
   "execution_count": 35,
   "metadata": {},
   "outputs": [
    {
     "data": {
      "text/plain": [
       "['Injury Collision', 'Property Damage Only Collision']"
      ]
     },
     "execution_count": 35,
     "metadata": {},
     "output_type": "execute_result"
    }
   ],
   "source": [
    "label_list =collision['SEVERITYDESC'].unique().tolist()\n",
    "label_list"
   ]
  },
  {
   "cell_type": "code",
   "execution_count": 36,
   "metadata": {},
   "outputs": [
    {
     "data": {
      "image/png": "[encoded data removed]",
      "text/plain": [
       "<Figure size 720x432 with 1 Axes>"
      ]
     },
     "metadata": {},
     "output_type": "display_data"
    }
   ],
   "source": [
    "plt.figure(figsize=(10,6))\n",
    "plt.pie(b['hour'],\n",
    "        labels=label_list, \n",
    "        autopct = '%.2f')\n",
    "plt.axis('equal')\n",
    "plt.show()"
   ]
  },
  {
   "cell_type": "markdown",
   "metadata": {},
   "source": [
    "### Berdasarkan data diatas kecelakaan yang sering terjadi diatas pukul 00.00 adalah kecelakaan dengan kategori Property Damage Collision"
   ]
  },
  {
   "cell_type": "markdown",
   "metadata": {},
   "source": [
    "## Soal III.5"
   ]
  },
  {
   "cell_type": "code",
   "execution_count": 45,
   "metadata": {},
   "outputs": [
    {
     "data": {
      "text/html": [
       "<div>\n",
       "<style scoped>\n",
       "    .dataframe tbody tr th:only-of-type {\n",
       "        vertical-align: middle;\n",
       "    }\n",
       "\n",
       "    .dataframe tbody tr th {\n",
       "        vertical-align: top;\n",
       "    }\n",
       "\n",
       "    .dataframe thead th {\n",
       "        text-align: right;\n",
       "    }\n",
       "</style>\n",
       "<table border=\"1\" class=\"dataframe\">\n",
       "  <thead>\n",
       "    <tr style=\"text-align: right;\">\n",
       "      <th></th>\n",
       "      <th>Unnamed: 0</th>\n",
       "      <th>SEVERITYCODE</th>\n",
       "      <th>STATUS</th>\n",
       "      <th>ADDRTYPE</th>\n",
       "      <th>SEVERITYDESC</th>\n",
       "      <th>COLLISIONTYPE</th>\n",
       "      <th>PERSONCOUNT</th>\n",
       "      <th>PEDCOUNT</th>\n",
       "      <th>PEDCYLCOUNT</th>\n",
       "      <th>VEHCOUNT</th>\n",
       "      <th>...</th>\n",
       "      <th>SDOT_COLCODE</th>\n",
       "      <th>SDOT_COLDESC</th>\n",
       "      <th>WEATHER</th>\n",
       "      <th>ROADCOND</th>\n",
       "      <th>LIGHTCOND</th>\n",
       "      <th>ST_COLCODE</th>\n",
       "      <th>ST_COLDESC</th>\n",
       "      <th>HITPARKEDCAR</th>\n",
       "      <th>year</th>\n",
       "      <th>hour</th>\n",
       "    </tr>\n",
       "    <tr>\n",
       "      <th>UNDERINFL</th>\n",
       "      <th></th>\n",
       "      <th></th>\n",
       "      <th></th>\n",
       "      <th></th>\n",
       "      <th></th>\n",
       "      <th></th>\n",
       "      <th></th>\n",
       "      <th></th>\n",
       "      <th></th>\n",
       "      <th></th>\n",
       "      <th></th>\n",
       "      <th></th>\n",
       "      <th></th>\n",
       "      <th></th>\n",
       "      <th></th>\n",
       "      <th></th>\n",
       "      <th></th>\n",
       "      <th></th>\n",
       "      <th></th>\n",
       "      <th></th>\n",
       "      <th></th>\n",
       "    </tr>\n",
       "  </thead>\n",
       "  <tbody>\n",
       "    <tr>\n",
       "      <th>0.0</th>\n",
       "      <td>3442</td>\n",
       "      <td>3442</td>\n",
       "      <td>3442</td>\n",
       "      <td>3442</td>\n",
       "      <td>3442</td>\n",
       "      <td>3442</td>\n",
       "      <td>3442</td>\n",
       "      <td>3442</td>\n",
       "      <td>3442</td>\n",
       "      <td>3442</td>\n",
       "      <td>...</td>\n",
       "      <td>3442</td>\n",
       "      <td>3442</td>\n",
       "      <td>3442</td>\n",
       "      <td>3442</td>\n",
       "      <td>3442</td>\n",
       "      <td>3442</td>\n",
       "      <td>3442</td>\n",
       "      <td>3442</td>\n",
       "      <td>3442</td>\n",
       "      <td>3442</td>\n",
       "    </tr>\n",
       "    <tr>\n",
       "      <th>1.0</th>\n",
       "      <td>351</td>\n",
       "      <td>351</td>\n",
       "      <td>351</td>\n",
       "      <td>351</td>\n",
       "      <td>351</td>\n",
       "      <td>351</td>\n",
       "      <td>351</td>\n",
       "      <td>351</td>\n",
       "      <td>351</td>\n",
       "      <td>351</td>\n",
       "      <td>...</td>\n",
       "      <td>351</td>\n",
       "      <td>351</td>\n",
       "      <td>351</td>\n",
       "      <td>351</td>\n",
       "      <td>351</td>\n",
       "      <td>351</td>\n",
       "      <td>351</td>\n",
       "      <td>351</td>\n",
       "      <td>351</td>\n",
       "      <td>351</td>\n",
       "    </tr>\n",
       "  </tbody>\n",
       "</table>\n",
       "<p>2 rows × 23 columns</p>\n",
       "</div>"
      ],
      "text/plain": [
       "           Unnamed: 0  SEVERITYCODE  STATUS  ADDRTYPE  SEVERITYDESC  \\\n",
       "UNDERINFL                                                             \n",
       "0.0              3442          3442    3442      3442          3442   \n",
       "1.0               351           351     351       351           351   \n",
       "\n",
       "           COLLISIONTYPE  PERSONCOUNT  PEDCOUNT  PEDCYLCOUNT  VEHCOUNT  ...  \\\n",
       "UNDERINFL                                                               ...   \n",
       "0.0                 3442         3442      3442         3442      3442  ...   \n",
       "1.0                  351          351       351          351       351  ...   \n",
       "\n",
       "           SDOT_COLCODE  SDOT_COLDESC  WEATHER  ROADCOND  LIGHTCOND  \\\n",
       "UNDERINFL                                                             \n",
       "0.0                3442          3442     3442      3442       3442   \n",
       "1.0                 351           351      351       351        351   \n",
       "\n",
       "           ST_COLCODE  ST_COLDESC  HITPARKEDCAR  year  hour  \n",
       "UNDERINFL                                                    \n",
       "0.0              3442        3442          3442  3442  3442  \n",
       "1.0               351         351           351   351   351  \n",
       "\n",
       "[2 rows x 23 columns]"
      ]
     },
     "execution_count": 45,
     "metadata": {},
     "output_type": "execute_result"
    }
   ],
   "source": [
    "a = collision[collision['hour'] == 20]\n",
    "b = a.groupby(['UNDERINFL']).count()\n",
    "b"
   ]
  },
  {
   "cell_type": "code",
   "execution_count": 51,
   "metadata": {},
   "outputs": [
    {
     "data": {
      "text/plain": [
       "[0.0, 1.0]"
      ]
     },
     "execution_count": 51,
     "metadata": {},
     "output_type": "execute_result"
    }
   ],
   "source": [
    "a_list =collision['UNDERINFL'].unique().tolist()\n",
    "a_list"
   ]
  },
  {
   "cell_type": "code",
   "execution_count": 52,
   "metadata": {},
   "outputs": [
    {
     "data": {
      "image/png": "[encoded data removed]",
      "text/plain": [
       "<Figure size 432x288 with 1 Axes>"
      ]
     },
     "metadata": {},
     "output_type": "display_data"
    }
   ],
   "source": [
    "sns.countplot(x='hour', hue='UNDERINFL', data=collision)\n",
    "plt.xticks(rotation=45)\n",
    "plt.show()"
   ]
  },
  {
   "cell_type": "code",
   "execution_count": 44,
   "metadata": {},
   "outputs": [
    {
     "data": {
      "text/html": [
       "<div>\n",
       "<style scoped>\n",
       "    .dataframe tbody tr th:only-of-type {\n",
       "        vertical-align: middle;\n",
       "    }\n",
       "\n",
       "    .dataframe tbody tr th {\n",
       "        vertical-align: top;\n",
       "    }\n",
       "\n",
       "    .dataframe thead th {\n",
       "        text-align: right;\n",
       "    }\n",
       "</style>\n",
       "<table border=\"1\" class=\"dataframe\">\n",
       "  <thead>\n",
       "    <tr style=\"text-align: right;\">\n",
       "      <th>UNDERINFL</th>\n",
       "      <th>0.0</th>\n",
       "      <th>1.0</th>\n",
       "    </tr>\n",
       "    <tr>\n",
       "      <th>hour</th>\n",
       "      <th></th>\n",
       "      <th></th>\n",
       "    </tr>\n",
       "  </thead>\n",
       "  <tbody>\n",
       "    <tr>\n",
       "      <th>0</th>\n",
       "      <td>2.074645</td>\n",
       "      <td>8.944223</td>\n",
       "    </tr>\n",
       "    <tr>\n",
       "      <th>1</th>\n",
       "      <td>1.520704</td>\n",
       "      <td>10.737052</td>\n",
       "    </tr>\n",
       "    <tr>\n",
       "      <th>2</th>\n",
       "      <td>1.522811</td>\n",
       "      <td>10.099602</td>\n",
       "    </tr>\n",
       "    <tr>\n",
       "      <th>3</th>\n",
       "      <td>0.856186</td>\n",
       "      <td>3.685259</td>\n",
       "    </tr>\n",
       "    <tr>\n",
       "      <th>4</th>\n",
       "      <td>0.652934</td>\n",
       "      <td>2.151394</td>\n",
       "    </tr>\n",
       "    <tr>\n",
       "      <th>5</th>\n",
       "      <td>1.041535</td>\n",
       "      <td>1.195219</td>\n",
       "    </tr>\n",
       "    <tr>\n",
       "      <th>6</th>\n",
       "      <td>2.147310</td>\n",
       "      <td>0.717131</td>\n",
       "    </tr>\n",
       "    <tr>\n",
       "      <th>7</th>\n",
       "      <td>4.334639</td>\n",
       "      <td>0.996016</td>\n",
       "    </tr>\n",
       "    <tr>\n",
       "      <th>8</th>\n",
       "      <td>5.693163</td>\n",
       "      <td>1.215139</td>\n",
       "    </tr>\n",
       "    <tr>\n",
       "      <th>9</th>\n",
       "      <td>5.205569</td>\n",
       "      <td>0.956175</td>\n",
       "    </tr>\n",
       "    <tr>\n",
       "      <th>10</th>\n",
       "      <td>4.828552</td>\n",
       "      <td>0.916335</td>\n",
       "    </tr>\n",
       "    <tr>\n",
       "      <th>11</th>\n",
       "      <td>5.231897</td>\n",
       "      <td>1.633466</td>\n",
       "    </tr>\n",
       "    <tr>\n",
       "      <th>12</th>\n",
       "      <td>6.483003</td>\n",
       "      <td>1.175299</td>\n",
       "    </tr>\n",
       "    <tr>\n",
       "      <th>13</th>\n",
       "      <td>6.310291</td>\n",
       "      <td>1.494024</td>\n",
       "    </tr>\n",
       "    <tr>\n",
       "      <th>14</th>\n",
       "      <td>6.774717</td>\n",
       "      <td>1.932271</td>\n",
       "    </tr>\n",
       "    <tr>\n",
       "      <th>15</th>\n",
       "      <td>7.296011</td>\n",
       "      <td>1.912351</td>\n",
       "    </tr>\n",
       "    <tr>\n",
       "      <th>16</th>\n",
       "      <td>7.665656</td>\n",
       "      <td>2.689243</td>\n",
       "    </tr>\n",
       "    <tr>\n",
       "      <th>17</th>\n",
       "      <td>8.047938</td>\n",
       "      <td>3.844622</td>\n",
       "    </tr>\n",
       "    <tr>\n",
       "      <th>18</th>\n",
       "      <td>5.969080</td>\n",
       "      <td>4.521912</td>\n",
       "    </tr>\n",
       "    <tr>\n",
       "      <th>19</th>\n",
       "      <td>4.364127</td>\n",
       "      <td>5.278884</td>\n",
       "    </tr>\n",
       "    <tr>\n",
       "      <th>20</th>\n",
       "      <td>3.624837</td>\n",
       "      <td>6.992032</td>\n",
       "    </tr>\n",
       "    <tr>\n",
       "      <th>21</th>\n",
       "      <td>3.126711</td>\n",
       "      <td>8.326693</td>\n",
       "    </tr>\n",
       "    <tr>\n",
       "      <th>22</th>\n",
       "      <td>2.975062</td>\n",
       "      <td>9.362550</td>\n",
       "    </tr>\n",
       "    <tr>\n",
       "      <th>23</th>\n",
       "      <td>2.252622</td>\n",
       "      <td>9.223108</td>\n",
       "    </tr>\n",
       "  </tbody>\n",
       "</table>\n",
       "</div>"
      ],
      "text/plain": [
       "UNDERINFL       0.0        1.0\n",
       "hour                          \n",
       "0          2.074645   8.944223\n",
       "1          1.520704  10.737052\n",
       "2          1.522811  10.099602\n",
       "3          0.856186   3.685259\n",
       "4          0.652934   2.151394\n",
       "5          1.041535   1.195219\n",
       "6          2.147310   0.717131\n",
       "7          4.334639   0.996016\n",
       "8          5.693163   1.215139\n",
       "9          5.205569   0.956175\n",
       "10         4.828552   0.916335\n",
       "11         5.231897   1.633466\n",
       "12         6.483003   1.175299\n",
       "13         6.310291   1.494024\n",
       "14         6.774717   1.932271\n",
       "15         7.296011   1.912351\n",
       "16         7.665656   2.689243\n",
       "17         8.047938   3.844622\n",
       "18         5.969080   4.521912\n",
       "19         4.364127   5.278884\n",
       "20         3.624837   6.992032\n",
       "21         3.126711   8.326693\n",
       "22         2.975062   9.362550\n",
       "23         2.252622   9.223108"
      ]
     },
     "execution_count": 44,
     "metadata": {},
     "output_type": "execute_result"
    }
   ],
   "source": [
    "a = pd.crosstab(collision.hour, collision.UNDERINFL).apply(lambda x: (x/x.sum())*100, axis=0)\n",
    "a"
   ]
  },
  {
   "cell_type": "markdown",
   "metadata": {},
   "source": [
    "## tidak setuju karena berdasarkan data diatas kecelakaan yang sering terjadi pada pukul 20.00 adalah kecelakaan yang tidak dipengaruhi oleh alkohol."
   ]
  },
  {
   "cell_type": "code",
   "execution_count": 39,
   "metadata": {},
   "outputs": [
    {
     "data": {
      "text/plain": [
       "Text(0.5, 1.0, 'Collision count YoY')"
      ]
     },
     "execution_count": 39,
     "metadata": {},
     "output_type": "execute_result"
    },
    {
     "data": {
      "image/png": "[encoded data removed]",
      "text/plain": [
       "<Figure size 1440x360 with 1 Axes>"
      ]
     },
     "metadata": {},
     "output_type": "display_data"
    }
   ],
   "source": [
    "fig, ax = plt.subplots(figsize=(20,5))\n",
    "sns.countplot(collision[\"year\"],ax=ax)\n",
    "ax.set_xlabel('Year', fontsize=18)\n",
    "ax.tick_params(axis=\"x\", labelsize=15)\n",
    "ax.tick_params(axis=\"y\", labelsize=15)\n",
    "ax.set_ylabel('Collision Count', fontsize=18)\n",
    "plt.title(\"Collision count YoY\", fontsize=18)\n",
    "\n",
    "\n"
   ]
  },
  {
   "cell_type": "markdown",
   "metadata": {},
   "source": [
    "## Tidak setuju karena berdasarkan plot diatas justru tahun 2015 terjadinya banyak kecelakaan bukan ditahun 2011"
   ]
  },
  {
   "cell_type": "code",
   "execution_count": null,
   "metadata": {},
   "outputs": [],
   "source": []
  }
 ],
 "metadata": {
  "kernelspec": {
   "display_name": "Python 3",
   "language": "python",
   "name": "python3"
  },
  "language_info": {
   "codemirror_mode": {
    "name": "ipython",
    "version": 3
   },
   "file_extension": ".py",
   "mimetype": "text/x-python",
   "name": "python",
   "nbconvert_exporter": "python",
   "pygments_lexer": "ipython3",
   "version": "3.7.6"
  }
 },
 "nbformat": 4,
 "nbformat_minor": 4
}
